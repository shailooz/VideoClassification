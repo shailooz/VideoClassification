{
 "cells": [
  {
   "cell_type": "code",
   "execution_count": null,
   "metadata": {},
   "outputs": [],
   "source": [
    "import numpy as np\n",
    "from keras.models import Sequential\n",
    "from keras.layers import Dense\n",
    "from keras.layers import LSTM\n",
    "import pandas as pd\n",
    "import os\n",
    "from keras.applications.vgg16 import VGG16\n",
    "from keras.preprocessing import sequence\n",
    "np.random.seed(7)\n",
    "import cv2\n",
    "from sklearn.model_selection import train_test_split"
   ]
  },
  {
   "cell_type": "code",
   "execution_count": null,
   "metadata": {},
   "outputs": [],
   "source": [
    "model = VGG16(weights='imagenet', include_top=False)"
   ]
  },
  {
   "cell_type": "code",
   "execution_count": null,
   "metadata": {},
   "outputs": [],
   "source": [
    "print(model.summary())"
   ]
  },
  {
   "cell_type": "code",
   "execution_count": null,
   "metadata": {},
   "outputs": [],
   "source": [
    "XX = []\n",
    "YY = []\n",
    "j=0\n",
    "base_path=\"../dataset/videos\"\n",
    "source_path=base_path\n",
    "for child in os.listdir(source_path):\n",
    "    print(child)\n",
    "    sub_path = os.path.join(source_path, child)\n",
    "    bsub_path = os.path.join(base_path, child)\n",
    "    if os.path.isdir(sub_path):\n",
    "        for data_file in os.listdir(sub_path):\n",
    "            path=os.path.join(bsub_path,data_file)\n",
    "            print(path)\n",
    "            frames=[]\n",
    "            cap=cv2.VideoCapture(path)\n",
    "            fcount=cap.get(cv2.CAP_PROP_FRAME_COUNT)\n",
    "\n",
    "            num_frames = 1000\n",
    "            loop_limit = min(num_frames,fcount)\n",
    "            print(\"Capturing {0} frames\".format(num_frames))\n",
    "\n",
    "            for i in range(0, loop_limit) :\n",
    "                ret, frame = cap.read()\n",
    "                frame = cv2.resize(frame,(224,224))\n",
    "                frame = frame.reshape([-1,224,224,3])\n",
    "                features_train=model.predict([frame])\n",
    "                frames.append(features_train.flatten())\n",
    "\n",
    "            last_frame= frames[-1]\n",
    "            for i in range(loop_limit, num_frames):\n",
    "                frames.append(last_frame)\n",
    "            XX.append(frames)\n",
    "            print(\">>>>>>>>>>>>>>>>>>>>>>>>>>>>>>>>>>>>>>>>>>>>>>>>>>>>>>>>>>>>>>>>>>>>>>>>>>>>\")\n",
    "\n",
    "            cap.release()\n",
    "            YY.append(child)\n",
    "print(np.shape(XX))\n",
    "print(np.shape(YY))"
   ]
  },
  {
   "cell_type": "code",
   "execution_count": null,
   "metadata": {},
   "outputs": [],
   "source": [
    "X=np.array(XX)\n",
    "print(X)\n",
    "print(X.shape)"
   ]
  },
  {
   "cell_type": "code",
   "execution_count": null,
   "metadata": {},
   "outputs": [],
   "source": [
    "print(YY)"
   ]
  },
  {
   "cell_type": "code",
   "execution_count": null,
   "metadata": {},
   "outputs": [],
   "source": [
    "y=np.array(YY)\n",
    "print(y.shape)"
   ]
  },
  {
   "cell_type": "code",
   "execution_count": null,
   "metadata": {},
   "outputs": [],
   "source": [
    "print(XX)"
   ]
  },
  {
   "cell_type": "code",
   "execution_count": null,
   "metadata": {},
   "outputs": [],
   "source": [
    "Y=y.reshape(-1,1)"
   ]
  },
  {
   "cell_type": "code",
   "execution_count": null,
   "metadata": {},
   "outputs": [],
   "source": [
    "from sklearn.preprocessing import OneHotEncoder, LabelBinarizer\n",
    "oh=OneHotEncoder()\n",
    "y1=oh.fit_transform(Y)\n",
    "lb=LabelBinarizer()\n",
    "yy=lb.fit_transform(y1)\n",
    "print(yy)"
   ]
  },
  {
   "cell_type": "code",
   "execution_count": null,
   "metadata": {},
   "outputs": [],
   "source": [
    "modelClass = Sequential()\n",
    "modelClass.add(LSTM(100, return_sequences=True, input_shape=(1000,25088)))\n",
    "modelClass.add(LSTM(50, return_sequences=True, activation='relu'))\n",
    "modelClass.add(LSTM(20, return_sequences=True, activation='relu'))\n",
    "modelClass.add(LSTM(10, activation='relu'))\n",
    "modelClass.add(Dense(2, activation='softmax'))\n",
    "modelClass.compile(loss='categorical_crossentropy', optimizer='adam', metrics=['accuracy'])\n",
    "print(modelClass.summary())\n",
    "modelClass.fit(X , yy , epochs=1000, batch_size=16)"
   ]
  },
  {
   "cell_type": "code",
   "execution_count": null,
   "metadata": {},
   "outputs": [],
   "source": [
    "scores = modelClass.evaluate(X, yy, verbose=0)\n",
    "print(\"Accuracy: %.2f%%\" % (scores[1]*100))"
   ]
  }
 ],
 "metadata": {
  "kernelspec": {
   "display_name": "Python 3",
   "language": "python",
   "name": "python3"
  },
  "language_info": {
   "codemirror_mode": {
    "name": "ipython",
    "version": 3
   },
   "file_extension": ".py",
   "mimetype": "text/x-python",
   "name": "python",
   "nbconvert_exporter": "python",
   "pygments_lexer": "ipython3",
   "version": "3.8.3"
  }
 },
 "nbformat": 4,
 "nbformat_minor": 4
}
